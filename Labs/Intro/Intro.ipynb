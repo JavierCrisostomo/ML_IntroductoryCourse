{
 "cells": [
  {
   "cell_type": "markdown",
   "metadata": {},
   "source": [
    "<center>\n",
    "<img src=\"Escudo.jpg\" width=\"300px\" heigth=\"300px\">    \n",
    "<h1>Simulación de Sistemas y Laboratorio</h1>\n",
    "<h2>UdeA</h2>\n",
    "<h3>2019-I</h3>\n",
    "</center>"
   ]
  },
  {
   "cell_type": "markdown",
   "metadata": {},
   "source": [
    "### Profesor: Julián D. Arias Londoño\n",
    "\n",
    "## Material introductorio para los laboratorios de Machine Learning\n",
    "\n",
    "Este material explica el manejo del entorno de trabajo de jupyter notebooks, librerías y dinámica para los laboratorios del curso incluye referencias, tips y buenas prácticas. Este material cubre los siguiente temas:\n",
    "\n",
    "1. Instalación y manejo de jupyter\n",
    "2. Manejo de vectores y matrices en NumPy\n",
    "3. Manejo de gráficas en matplotlib\n",
    "4. Manejo de dataframes en pandas\n",
    "3. Ejercicios\n",
    "\n",
    "![alt](jupyter_python_numpy.png)\n",
    "\n",
    "***"
   ]
  },
  {
   "cell_type": "markdown",
   "metadata": {},
   "source": [
    "## 1. Instalación de jupyter\n",
    "\n",
    "Existen 3 formas muy populares de correr notebook de jupyter:\n",
    "\n",
    "- Distribuición de [Anaconda](https://www.anaconda.com/). (Recomendado para Windows y macOs)\n",
    "- Administrador de paquetes pip. (Recomendado para Linux)\n",
    "- Contenedor en docker"
   ]
  },
  {
   "cell_type": "markdown",
   "metadata": {},
   "source": [
    "### Manejo de Jupyter\n",
    "\n",
    "Es un entorno de trabajo que permite integrar en un mismo \"notebook\" código por defecto en Python (también aplica para otros lenguajes), texto, gráfica e imágenes a cada bloque se conoce como *celda*. Es utilizado ampliamente en análisis numérico, estadística y machine learning, entre otros campos de la informática y las matemáticas.\n",
    "\n",
    "> Las celdas de texto: está escrita con *Markdown*, un lenguaje de etiquetado más legible para la decoración de texto, se puede hacer desde encabezados, LaTeX, simbolos matematicos hasta listas enumeradas, entre otros.  \n",
    "\n",
    "> Las celdas de código: son ejecutables, es decir, se pueden correr individualmente (con ctrl + enter o desde el menu Cell -> Run Cells)\n",
    "\n",
    "Para saber cuándo una celda se ha ejecutado, está en ello o ya ha terminado, podemos mirar la cabecera de la celda:\n",
    "- Si solamente aparece In [ ], quiere decir que aún no se ha ejecutado.\n",
    "- Si lo que tenemos es In [\\*], entonces está en ejecución.\n",
    "- Si aparece un número entre los corchetes, ya ha terminado de ejecutar. \n",
    "\n",
    "Por último, sabemos que cada se ejecuta por separado esto implica que **la ejecución se realiza de arriba hacia abajo en orden**, de este modo ya están cargadas las librerías o variables previamente. Es así como evitamos problemas de importación de librerías o variables sin definir.\n",
    "\n"
   ]
  },
  {
   "cell_type": "code",
   "execution_count": 17,
   "metadata": {},
   "outputs": [
    {
     "ename": "NameError",
     "evalue": "name 'x' is not defined",
     "output_type": "error",
     "traceback": [
      "\u001b[0;31m---------------------------------------------------------------------------\u001b[0m",
      "\u001b[0;31mNameError\u001b[0m                                 Traceback (most recent call last)",
      "\u001b[0;32m<ipython-input-17-fc17d851ef81>\u001b[0m in \u001b[0;36m<module>\u001b[0;34m\u001b[0m\n\u001b[0;32m----> 1\u001b[0;31m \u001b[0mprint\u001b[0m\u001b[0;34m(\u001b[0m\u001b[0mx\u001b[0m\u001b[0;34m)\u001b[0m\u001b[0;34m\u001b[0m\u001b[0;34m\u001b[0m\u001b[0m\n\u001b[0m",
      "\u001b[0;31mNameError\u001b[0m: name 'x' is not defined"
     ]
    }
   ],
   "source": [
    "print(x)"
   ]
  },
  {
   "cell_type": "code",
   "execution_count": 3,
   "metadata": {},
   "outputs": [
    {
     "ename": "NameError",
     "evalue": "name 'np' is not defined",
     "output_type": "error",
     "traceback": [
      "\u001b[0;31m---------------------------------------------------------------------------\u001b[0m",
      "\u001b[0;31mNameError\u001b[0m                                 Traceback (most recent call last)",
      "\u001b[0;32m<ipython-input-3-bb7d45a5150c>\u001b[0m in \u001b[0;36m<module>\u001b[0;34m\u001b[0m\n\u001b[0;32m----> 1\u001b[0;31m \u001b[0mx\u001b[0m \u001b[0;34m=\u001b[0m \u001b[0mnp\u001b[0m\u001b[0;34m.\u001b[0m\u001b[0mzeros\u001b[0m\u001b[0;34m(\u001b[0m\u001b[0;36m10\u001b[0m\u001b[0;34m)\u001b[0m\u001b[0;34m\u001b[0m\u001b[0;34m\u001b[0m\u001b[0m\n\u001b[0m",
      "\u001b[0;31mNameError\u001b[0m: name 'np' is not defined"
     ]
    }
   ],
   "source": [
    "x = np.zeros(10)"
   ]
  },
  {
   "cell_type": "markdown",
   "metadata": {},
   "source": [
    "!Ahora es tu turno!\n",
    "Haz click en la opción + y añade una celda de texto, observa que sea en Markdown. \n",
    "\n",
    "Luego ejecutamos una celda de código con lo siguiente:\n",
    "\n",
    "    import numpy as np\n",
    "    x = np.zeros(10)\n",
    "    print(x)"
   ]
  },
  {
   "cell_type": "markdown",
   "metadata": {},
   "source": [
    "## 2. Manejo vectores y matrices en NumPy\n",
    "\n",
    "NumPy es un paquete que proporciona herramientas y técnicas para manipular estructuras de datos con matrices, es mucho mejor que las listas de Python, tiene acceso y escritura más rápida. Posee una amplia colección de herramientas y técnicas que se pueden utilizar para resolver problemas mátematicos, además de que contiene todas las funciones para trabajar con matrices.\n",
    "\n",
    "A continuación encontrá algunas funciones muy útiles para los laboratorios, tales como:\n",
    "- Nuevo array data la forma (entero o tupla), tipo rellenada con el número definido\n",
    "- Nuevo array indexado manualmente de 1D o más\n",
    "- Suma y resta de vectores\n",
    "- Producto de dos vectores\n",
    "- Producto de dos matrices\n",
    "- Multiplicación matricial\n",
    "- Indexación de matrices\n"
   ]
  },
  {
   "cell_type": "code",
   "execution_count": 5,
   "metadata": {},
   "outputs": [
    {
     "name": "stdout",
     "output_type": "stream",
     "text": [
      "Array de 10 ceros: [0. 0. 0. 0. 0. 0. 0. 0. 0. 0.]\n",
      "Array de 10 unos: [1. 1. 1. 1. 1. 1. 1. 1. 1. 1.]\n",
      "Array type:  <class 'numpy.ndarray'> float64\n"
     ]
    }
   ],
   "source": [
    "#Creacion de un nuevo array de ceros y unos\n",
    "zeros=np.zeros(10)\n",
    "print(\"Array de 10 ceros:\", zeros)\n",
    "ones=np.ones(10)\n",
    "print(\"Array de 10 unos:\", ones)\n",
    "print(\"Array type: \", type(ones), ones.dtype)"
   ]
  },
  {
   "cell_type": "markdown",
   "metadata": {},
   "source": [
    "#### Ejercicio:  Crear un nuevo array rellanado de 5:"
   ]
  },
  {
   "cell_type": "code",
   "execution_count": null,
   "metadata": {},
   "outputs": [],
   "source": [
    "fives = np.\n",
    "print(\"Array de 10 cincos:\", fives)"
   ]
  },
  {
   "cell_type": "code",
   "execution_count": 6,
   "metadata": {},
   "outputs": [
    {
     "name": "stdout",
     "output_type": "stream",
     "text": [
      "v1:  [ 3 -1  2]\n",
      "v2:  [ 2 -1  3]\n"
     ]
    }
   ],
   "source": [
    "# Indexar un vector manualmente de 1D\n",
    "v1 = np.array([3,-1,2])\n",
    "v2= np.array([2,-1,3])\n",
    "print(\"v1: \",v1)\n",
    "print(\"v2: \",v2)"
   ]
  },
  {
   "cell_type": "code",
   "execution_count": 7,
   "metadata": {},
   "outputs": [
    {
     "name": "stdout",
     "output_type": "stream",
     "text": [
      "[ 5 -2  5]\n"
     ]
    }
   ],
   "source": [
    "# Suma y resta de vectores\n",
    "suma1 = v1 + v2 #(para la resta usamos -)\n",
    "print(suma1)\n"
   ]
  },
  {
   "cell_type": "code",
   "execution_count": 8,
   "metadata": {},
   "outputs": [
    {
     "name": "stdout",
     "output_type": "stream",
     "text": [
      "[6 1 6]\n",
      "13\n"
     ]
    }
   ],
   "source": [
    "# producto de dos vectores.\n",
    "prod1 = v1*v2\n",
    "print (prod1)\n",
    "\n",
    "prod1 = np.dot(v1,v2)\n",
    "print (prod1)"
   ]
  },
  {
   "cell_type": "code",
   "execution_count": 9,
   "metadata": {},
   "outputs": [
    {
     "name": "stdout",
     "output_type": "stream",
     "text": [
      "[[1.  2.  3. ]\n",
      " [0.5 0.3 2.1]]\n",
      "float64\n"
     ]
    }
   ],
   "source": [
    "# Indexar una matriz manualmente 2x3\n",
    "m1 = np.array([[1,2,3],[0.5,0.3,2.1]])\n",
    "print (m1)\n",
    "print(m1.dtype)"
   ]
  },
  {
   "cell_type": "code",
   "execution_count": 10,
   "metadata": {},
   "outputs": [
    {
     "name": "stdout",
     "output_type": "stream",
     "text": [
      "(2, 3)\n"
     ]
    }
   ],
   "source": [
    "#¿Cuántas filas y columnas tiene la variable m1?\n",
    "print(m1.shape)"
   ]
  },
  {
   "cell_type": "code",
   "execution_count": 11,
   "metadata": {},
   "outputs": [
    {
     "name": "stdout",
     "output_type": "stream",
     "text": [
      "(3, 2)\n",
      "[[14.   7. ]\n",
      " [ 7.4  3.4]]\n"
     ]
    }
   ],
   "source": [
    "#Producto de matrices\n",
    "m2 = np.array([[1,2],[2,1],[3,1]]) # [3x2]\n",
    "print (np.shape(m2))\n",
    "print (np.dot(m1,m2))\n"
   ]
  },
  {
   "cell_type": "markdown",
   "metadata": {},
   "source": [
    "¿Por qué el siguiente código produce error? (transpuesta)"
   ]
  },
  {
   "cell_type": "code",
   "execution_count": 28,
   "metadata": {},
   "outputs": [
    {
     "ename": "ValueError",
     "evalue": "operands could not be broadcast together with shapes (2,3) (3,2) ",
     "output_type": "error",
     "traceback": [
      "\u001b[0;31m---------------------------------------------------------------------------\u001b[0m",
      "\u001b[0;31mValueError\u001b[0m                                Traceback (most recent call last)",
      "\u001b[0;32m<ipython-input-28-805b2c15c37f>\u001b[0m in \u001b[0;36m<module>\u001b[0;34m\u001b[0m\n\u001b[0;32m----> 1\u001b[0;31m \u001b[0mprint\u001b[0m \u001b[0;34m(\u001b[0m\u001b[0mm1\u001b[0m\u001b[0;34m*\u001b[0m\u001b[0mm2\u001b[0m\u001b[0;34m)\u001b[0m\u001b[0;34m\u001b[0m\u001b[0;34m\u001b[0m\u001b[0m\n\u001b[0m",
      "\u001b[0;31mValueError\u001b[0m: operands could not be broadcast together with shapes (2,3) (3,2) "
     ]
    }
   ],
   "source": [
    "print (m1*m2)"
   ]
  },
  {
   "cell_type": "code",
   "execution_count": 29,
   "metadata": {},
   "outputs": [
    {
     "name": "stdout",
     "output_type": "stream",
     "text": [
      "(3, 2) (3, 2)\n",
      "[[ 1.   1. ]\n",
      " [18.   0.3]\n",
      " [ 9.   2.1]]\n"
     ]
    }
   ],
   "source": [
    "x = m1.T.shape\n",
    "print(x, m2.shape)\n",
    "print(m1.T*m2)"
   ]
  },
  {
   "cell_type": "code",
   "execution_count": 13,
   "metadata": {},
   "outputs": [
    {
     "name": "stdout",
     "output_type": "stream",
     "text": [
      "(2, 2)\n"
     ]
    }
   ],
   "source": [
    "m3 = np.array([[1,2],[2,1]]) # [3x2]\n",
    "print (np.shape(m3))"
   ]
  },
  {
   "cell_type": "code",
   "execution_count": 14,
   "metadata": {},
   "outputs": [
    {
     "name": "stdout",
     "output_type": "stream",
     "text": [
      "[[1 4]\n",
      " [4 1]]\n"
     ]
    }
   ],
   "source": [
    "print(m3*m3)"
   ]
  },
  {
   "cell_type": "markdown",
   "metadata": {},
   "source": [
    "Cuidado con la asignación de variables, python usa variables referenciadas. Si se requiere hacer una copia se debe usar el método \".copy\". Dependiendo de si se trabaja con python 2.7 o 3, la sintaxis puede ser diferente."
   ]
  },
  {
   "cell_type": "code",
   "execution_count": 15,
   "metadata": {},
   "outputs": [
    {
     "name": "stdout",
     "output_type": "stream",
     "text": [
      "[[1.  9.  3. ]\n",
      " [0.5 0.3 2.1]]\n",
      "---\n",
      "[[1.  9.  3. ]\n",
      " [0.5 0.3 2.1]]\n",
      "---\n",
      "[[1.  9.  3. ]\n",
      " [0.5 9.  2.1]]\n"
     ]
    }
   ],
   "source": [
    "m4 = m1\n",
    "m4[0,1] = 9\n",
    "print (m1)\n",
    "print (\"---\")\n",
    "m5 = np.copy(m1)\n",
    "m5[1,1] = 9\n",
    "print (m4)\n",
    "print (\"---\")\n",
    "print (m5)"
   ]
  },
  {
   "cell_type": "markdown",
   "metadata": {},
   "source": [
    "### Indexación\n",
    "\n",
    "Para hacer una indexación en matrices se accede con los corchetes y siempre se define así: [filas,columnas]. Ahora si deseo escoger entre las fila 0 hasta 2 debe ser separado por dos puntos **:**, de la siguiente forma\n",
    "\n",
    "    x = matrix[0:2,]\n",
    "    \n",
    "\n",
    "De la misma forma aplica para las columnas, si quiero la primera columna:\n",
    "\n",
    "    x = matrix[0:2,0:1]\n",
    "    \n"
   ]
  },
  {
   "cell_type": "code",
   "execution_count": 18,
   "metadata": {},
   "outputs": [
    {
     "name": "stdout",
     "output_type": "stream",
     "text": [
      "Original\n",
      "[[1 2]\n",
      " [2 1]\n",
      " [3 1]]\n",
      "----\n",
      "Nuevo m2, dos primeras filas\n",
      "[[1 2]\n",
      " [2 1]]\n",
      "Nuevo m2, dos primeras filas y primera columna\n",
      "[[1]\n",
      " [2]]\n"
     ]
    }
   ],
   "source": [
    "print(\"Original\")\n",
    "print(m2)\n",
    "print(\"----\")\n",
    "new_m2 = m2[0:2,]\n",
    "print(\"Nuevo m2, dos primeras filas\")\n",
    "print(new_m2)\n",
    "new_m2 = m2[0:2,0:1]\n",
    "print(\"Nuevo m2, dos primeras filas y primera columna\")\n",
    "print(new_m2)"
   ]
  },
  {
   "cell_type": "code",
   "execution_count": 26,
   "metadata": {},
   "outputs": [
    {
     "data": {
      "text/plain": [
       "array([ 1., 18.,  9.])"
      ]
     },
     "execution_count": 26,
     "metadata": {},
     "output_type": "execute_result"
    }
   ],
   "source": [
    "m1[0,:]*m2[:,0]"
   ]
  },
  {
   "cell_type": "code",
   "execution_count": 28,
   "metadata": {},
   "outputs": [
    {
     "name": "stdout",
     "output_type": "stream",
     "text": [
      "[[1]\n",
      " [2]\n",
      " [3]]\n",
      "----\n",
      "[[ 1.  9.  3.]\n",
      " [ 2. 18.  6.]\n",
      " [ 3. 27.  9.]]\n"
     ]
    }
   ],
   "source": [
    "b = m2[:,0][:, np.newaxis]\n",
    "print (b)\n",
    "print (\"----\")\n",
    "print( m1[0,:]*b)"
   ]
  },
  {
   "cell_type": "markdown",
   "metadata": {},
   "source": [
    "## Concatenar vectores y matrices\n",
    "reshape \n",
    "transpuesto"
   ]
  },
  {
   "cell_type": "markdown",
   "metadata": {},
   "source": [
    "### Inicializar vectores aleatorios"
   ]
  },
  {
   "cell_type": "code",
   "execution_count": 30,
   "metadata": {},
   "outputs": [
    {
     "name": "stdout",
     "output_type": "stream",
     "text": [
      "[[0.52957112 0.01010179 0.37264038 0.52452269]\n",
      " [0.1287411  0.83165595 0.25666525 0.95120928]\n",
      " [0.36544672 0.46248518 0.21204208 0.65883116]]\n",
      "----\n",
      "[[ 1  3  5]\n",
      " [ 7  9 11]]\n"
     ]
    }
   ],
   "source": [
    "a = np.random.rand(10,8)\n",
    "b = np.array([[1,2,3,4,5,6],[7,8,9,10,11,12],[13,14,15,16,17,18]])\n",
    "print (a[0:3,4:8])\n",
    "print (\"----\")\n",
    "print (b[0:2,0:6:2])"
   ]
  },
  {
   "cell_type": "code",
   "execution_count": 19,
   "metadata": {},
   "outputs": [
    {
     "data": {
      "text/plain": [
       "array([[0.45884729, 0.24770282],\n",
       "       [0.97110553, 0.28922553],\n",
       "       [0.17305406, 0.24956943]])"
      ]
     },
     "execution_count": 19,
     "metadata": {},
     "output_type": "execute_result"
    }
   ],
   "source": [
    " a[np.ix_([1,3,4],[0,2])]"
   ]
  },
  {
   "cell_type": "code",
   "execution_count": 31,
   "metadata": {},
   "outputs": [
    {
     "name": "stdout",
     "output_type": "stream",
     "text": [
      "[[0.53997968 0.09643002 0.52452269]\n",
      " [0.44461863 0.06902448 0.95120928]\n",
      " [0.47766126 0.8086553  0.65883116]\n",
      " [0.13182898 0.94685615 0.93944302]\n",
      " [0.51235447 0.53580695 0.17615061]\n",
      " [0.58944743 0.74480012 0.71357205]\n",
      " [0.13789045 0.52839683 0.71693678]\n",
      " [0.18500064 0.89669508 0.80233247]\n",
      " [0.07240242 0.62121101 0.87383851]\n",
      " [0.80999242 0.36956852 0.39696443]]\n"
     ]
    }
   ],
   "source": [
    "v = np.random.permutation(8)\n",
    "print (a[:,v>4])"
   ]
  },
  {
   "cell_type": "markdown",
   "metadata": {},
   "source": [
    "#### Métodos importantes"
   ]
  },
  {
   "cell_type": "code",
   "execution_count": 32,
   "metadata": {},
   "outputs": [
    {
     "name": "stdout",
     "output_type": "stream",
     "text": [
      "9.0\n",
      "[1. 9. 3.]\n",
      "[9.  2.1]\n"
     ]
    }
   ],
   "source": [
    "print (m1.max())\n",
    "\n",
    "print (m1.max(0))\n",
    "\n",
    "print (m1.max(1))\n",
    "\n",
    "#similar con min"
   ]
  },
  {
   "cell_type": "code",
   "execution_count": 33,
   "metadata": {},
   "outputs": [
    {
     "name": "stdout",
     "output_type": "stream",
     "text": [
      "[0.39011764 0.40526854 0.33684229 0.56174445 0.44730125 0.45909221\n",
      " 0.44397548 0.6753801 ]\n",
      "----\n",
      "[0.31411525 0.4478008  0.40182443 0.49727142 0.44700515 0.50878407\n",
      " 0.44712295 0.64423255 0.45310933 0.4883865 ]\n"
     ]
    }
   ],
   "source": [
    "#ones\n",
    "\n",
    "#diag\n",
    "\n",
    "#unique\n",
    "\n",
    "#linalg.inv #Inversa de matriz\n",
    "\n",
    "#linalg.svd #Descomposición en valores singulares\n",
    "\n",
    "#logical_and #Elemento a elelemto\n",
    "\n",
    "#logical_or #Elemento a elelemto\n",
    "\n",
    "print(np.mean(a, axis=0))\n",
    "print (\"----\")\n",
    "print (np.mean(a, axis=1))"
   ]
  },
  {
   "cell_type": "markdown",
   "metadata": {},
   "source": [
    "----------------------------------"
   ]
  },
  {
   "cell_type": "markdown",
   "metadata": {},
   "source": [
    "## 3. Manejo de gráficas en Matplotlib"
   ]
  },
  {
   "cell_type": "markdown",
   "metadata": {},
   "source": [
    "Ahora utilizaremos la librería matplotlib para hacer algunos ejemplos de gráficas básicas:\n",
    "\n",
    "$$ y = x $$\n",
    "\n",
    "$$ y = x^2 $$\n",
    "\n",
    "$$ y = x^3 $$\n",
    "\n",
    "Observemos que la variable x solo se carga en la primera celda de código. En adelante se puede usar sin necesidad de ser cargada de nuevo. En la gráfica de $y=x^3$ incluimos el título de la gráfica y los label para los ejes de la misma."
   ]
  },
  {
   "cell_type": "code",
   "execution_count": 38,
   "metadata": {},
   "outputs": [],
   "source": [
    "## Importar la librería de matplotlib\n",
    "import matplotlib.pyplot as plt"
   ]
  },
  {
   "cell_type": "code",
   "execution_count": 40,
   "metadata": {},
   "outputs": [
    {
     "data": {
      "image/png": "[encoded data removed]",
      "text/plain": [
       "<Figure size 432x288 with 1 Axes>"
      ]
     },
     "metadata": {
      "needs_background": "light"
     },
     "output_type": "display_data"
    }
   ],
   "source": [
    "#x = np.array([-2,-1,0,1,2])\n",
    "x = np.linspace(-10,10,100)\n",
    "#print x\n",
    "#f = \"hola\"\n",
    "#print f\n",
    "#Función y = ax + b\n",
    "y = 0.5*x\n",
    "plt.plot(x,y)\n",
    "plt.ylim(0,10)\n",
    "plt.xlim(0,10)\n",
    "plt.ylabel('y = x')\n",
    "plt.xlabel('x')\n",
    "plt.title(u\"Gráfica de una función lineal\\n\")\n",
    "plt.show()"
   ]
  },
  {
   "cell_type": "code",
   "execution_count": 41,
   "metadata": {},
   "outputs": [
    {
     "data": {
      "image/png": "[encoded data removed]",
      "text/plain": [
       "<Figure size 432x288 with 1 Axes>"
      ]
     },
     "metadata": {
      "needs_background": "light"
     },
     "output_type": "display_data"
    }
   ],
   "source": [
    "#y = x^2\n",
    "y = x**2\n",
    "plt.plot(x,y)\n",
    "#plt.xlim(-150,150)\n",
    "plt.show()"
   ]
  },
  {
   "cell_type": "code",
   "execution_count": 42,
   "metadata": {},
   "outputs": [
    {
     "data": {
      "image/png": "[encoded data removed]",
      "text/plain": [
       "<Figure size 432x288 with 1 Axes>"
      ]
     },
     "metadata": {
      "needs_background": "light"
     },
     "output_type": "display_data"
    }
   ],
   "source": [
    "y = x**3\n",
    "plt.plot(y)\n",
    "plt.ylabel(r'$y = x^3$')\n",
    "plt.xlabel(u'x - 100 números entre -10 y 10')\n",
    "plt.title(u'Ejemplos de introducción para el curso de Simulación de Sistemas - UdeA\\n')\n",
    "plt.show()"
   ]
  },
  {
   "cell_type": "markdown",
   "metadata": {},
   "source": [
    "Generando gráfica punteada"
   ]
  },
  {
   "cell_type": "code",
   "execution_count": 43,
   "metadata": {},
   "outputs": [
    {
     "data": {
      "image/png": "[encoded data removed]",
      "text/plain": [
       "<Figure size 432x288 with 1 Axes>"
      ]
     },
     "metadata": {
      "needs_background": "light"
     },
     "output_type": "display_data"
    }
   ],
   "source": [
    "y = x**3\n",
    "plt.plot(x,y, 'r--')\n",
    "plt.ylabel('y = x^3')\n",
    "plt.xlabel(u'x - 100 números entre -10 y 10')\n",
    "plt.title(u'Ejemplos de introducción para el curso de Simulación de Sistemas - UdeA\\n')\n",
    "plt.show()"
   ]
  },
  {
   "cell_type": "code",
   "execution_count": 44,
   "metadata": {},
   "outputs": [
    {
     "data": {
      "image/png": "[encoded data removed]",
      "text/plain": [
       "<Figure size 432x288 with 1 Axes>"
      ]
     },
     "metadata": {
      "needs_background": "light"
     },
     "output_type": "display_data"
    }
   ],
   "source": [
    "y = np.sin(x)\n",
    "plt.plot(y, 'bo')\n",
    "plt.ylabel('y = seno(x)')\n",
    "plt.xlabel(u'x - 100 números entre -10 y 10')\n",
    "plt.title(r'$s(t) = \\mathcal{A}\\sin(2 \\omega t)$', fontsize=16, color='r')\n",
    "plt.show()"
   ]
  },
  {
   "cell_type": "markdown",
   "metadata": {},
   "source": [
    "Dos gráficas en el mismo plano"
   ]
  },
  {
   "cell_type": "code",
   "execution_count": 45,
   "metadata": {},
   "outputs": [
    {
     "data": {
      "image/png": "[encoded data removed]",
      "text/plain": [
       "<Figure size 432x288 with 1 Axes>"
      ]
     },
     "metadata": {
      "needs_background": "light"
     },
     "output_type": "display_data"
    }
   ],
   "source": [
    "y2 = x\n",
    "y = np.sin(x)\n",
    "y1 = np.cos(x)\n",
    "plt.plot(y, 'r--', y1, 'b-')\n",
    "plt.ylabel('y = seno(x)')\n",
    "plt.xlabel(u'x - 100 números entre -10 y 10')\n",
    "plt.title(u'Ejemplos de introducción para el curso de Simulación de Sistemas - UdeA\\n')\n",
    "plt.show()"
   ]
  },
  {
   "cell_type": "markdown",
   "metadata": {},
   "source": [
    "Agregando el legend al gráfico"
   ]
  },
  {
   "cell_type": "code",
   "execution_count": 46,
   "metadata": {},
   "outputs": [
    {
     "data": {
      "image/png": "[encoded data removed]",
      "text/plain": [
       "<Figure size 432x288 with 1 Axes>"
      ]
     },
     "metadata": {
      "needs_background": "light"
     },
     "output_type": "display_data"
    }
   ],
   "source": [
    "y = np.sin(x)\n",
    "y1 = np.cos(x)\n",
    "plt.plot(y, 'r-', label='Seno')\n",
    "plt.plot(y1, 'b-', label='Coseno')\n",
    "plt.ylabel('y = seno(x)')\n",
    "plt.xlabel(u'x - 100 números entre -10 y 10')\n",
    "plt.title(u'Ejemplos de introducción para el curso de Simulación de Sistemas - UdeA\\n')\n",
    "plt.legend()\n",
    "plt.show()"
   ]
  },
  {
   "cell_type": "markdown",
   "metadata": {},
   "source": [
    "Diferentes gráficos"
   ]
  },
  {
   "cell_type": "code",
   "execution_count": 47,
   "metadata": {},
   "outputs": [
    {
     "data": {
      "image/png": "[encoded data removed]",
      "text/plain": [
       "<Figure size 648x216 with 3 Axes>"
      ]
     },
     "metadata": {
      "needs_background": "light"
     },
     "output_type": "display_data"
    }
   ],
   "source": [
    "values = np.array([1, 10, 100])\n",
    "ind = np.arange(3)\n",
    "plt.figure(1, figsize=(9, 3))\n",
    "\n",
    "plt.subplot(131)\n",
    "plt.bar(ind+1, values*np.random.rand(3))\n",
    "\n",
    "plt.subplot(132)\n",
    "plt.bar(ind+1, np.flipud(values))\n",
    "plt.subplot(133)\n",
    "plt.bar(ind+1, values)\n",
    "\n",
    "plt.suptitle(u'Ejemplos - Simulación de Sistemas y Lab.')\n",
    "plt.show()"
   ]
  },
  {
   "cell_type": "markdown",
   "metadata": {},
   "source": [
    "Gráficos para problemas de clasificación en Machine learning. Scatter plots"
   ]
  },
  {
   "cell_type": "code",
   "execution_count": 48,
   "metadata": {},
   "outputs": [
    {
     "data": {
      "image/png": "[encoded data removed]",
      "text/plain": [
       "<Figure size 432x288 with 1 Axes>"
      ]
     },
     "metadata": {
      "needs_background": "light"
     },
     "output_type": "display_data"
    }
   ],
   "source": [
    "#Creamos los datos artificiales\n",
    "\n",
    "mu1, sigma1 = 1.5, 0.1\n",
    "mu2, sigma2 = 1, 0.1\n",
    "N = 100\n",
    "\n",
    "x1 = mu1 + sigma1 * np.random.randn(N)\n",
    "x1line = np.linspace(0,2,N)\n",
    "x2 = mu2 + sigma2 * np.random.randn(N)\n",
    "x2line = np.linspace(3,5,N)\n",
    "\n",
    "#Decision boundary\n",
    "b = -2\n",
    "m = 3.5\n",
    "v = np.linspace(0,100,100)\n",
    "t = v*m + b\n",
    "\n",
    "plt.scatter(x1, x1line, c='b')\n",
    "plt.scatter(x2, x2line, c='r')\n",
    "plt.plot(v, t, 'c-')\n",
    "plt.ylim(-0.5, 6, 1)\n",
    "plt.xlim(0.5, 1.8, 0.2)\n",
    "plt.show()\n"
   ]
  },
  {
   "cell_type": "markdown",
   "metadata": {},
   "source": [
    "# Distribución de probabilidad normal univariada\n",
    "\n",
    "$P(x; \\mu, \\sigma) = \\frac{1}{\\sqrt{2\\pi}\\sigma }exp-\\frac{1}{2}\\frac{(x-\\mu)^2}{\\sigma^2}$\n",
    "\n",
    "Recordar que lo anterior conforma una familia paramétrica con todos los posibles valores de los parámetros $\\mu$ y $\\sigma$.\n",
    "\n",
    "Veamos la gráfica de la distribución de la función de densidad de probabilidad normal:\n",
    "\n"
   ]
  },
  {
   "cell_type": "code",
   "execution_count": 49,
   "metadata": {},
   "outputs": [
    {
     "data": {
      "image/png": "[encoded data removed]",
      "text/plain": [
       "<Figure size 432x288 with 1 Axes>"
      ]
     },
     "metadata": {
      "needs_background": "light"
     },
     "output_type": "display_data"
    }
   ],
   "source": [
    "\n",
    "mu, sigma = 0, 2\n",
    "\n",
    "#Generamos un conjunto de valores x\n",
    "\n",
    "x = np.linspace(-3,3,100)\n",
    "#los llevamos a la función de densidad de probabilidad normal\n",
    "p = ( 1/(np.sqrt(2*np.pi)*sigma) ) * np.exp( (-1/2) * ( ((x - mu) ** 2) / (sigma ** 2) ) )\n",
    "\n",
    "plt.plot(x, p, 'b-')\n",
    "plt.show()\n"
   ]
  },
  {
   "cell_type": "markdown",
   "metadata": {},
   "source": [
    "Notar que:\n",
    "\n",
    "1. El domino de la función de densidad de probabilidad normal es cualquier valor real, es decir, $(-\\infty, \\infty)$\n",
    "\n",
    "2. La gráfica es simétrica respecto a la media $\\mu$\n",
    "\n",
    "3. Tiene un máximo en la media $\\mu$\n",
    "\n",
    "4. Crece hasta la media $\\mu$ y decrece a partir de ella.\n",
    "\n",
    "5. En los puntos $\\mu - \\sigma$ y $\\mu + \\sigma$ presenta puntos de inflexión\n",
    "\n",
    "6. El eje de abscisas es una asíntota de la curva.\n",
    "\n",
    "El área bajo la curva es igual a la unidad.\n",
    "\n",
    "La probabilidad equivale al área encerrada bajo la curva.\n",
    "\n",
    "$p(\\mu - \\sigma \\lt X \\leq \\mu + \\sigma) = 0.6826 = 68.26\\%$\n",
    "\n",
    "$p(\\mu - 2\\sigma \\lt X \\leq \\mu + 2\\sigma) = 0.954 = 95.4\\%$\n",
    "\n",
    "$p(\\mu - 3\\sigma \\lt X \\leq \\mu + 3\\sigma) = 0.997 = 99.7\\%$\n",
    "\n"
   ]
  },
  {
   "cell_type": "markdown",
   "metadata": {},
   "source": [
    "Ahora vamos a mirar otros tipos de gráficas muy interesantes."
   ]
  },
  {
   "cell_type": "code",
   "execution_count": 50,
   "metadata": {},
   "outputs": [
    {
     "data": {
      "image/png": "[encoded data removed]",
      "text/plain": [
       "<Figure size 432x288 with 1 Axes>"
      ]
     },
     "metadata": {
      "needs_background": "light"
     },
     "output_type": "display_data"
    }
   ],
   "source": [
    "p = np.random.randn(1000)\n",
    "plt.hist(p, color = 'b')\n",
    "plt.show()"
   ]
  },
  {
   "cell_type": "code",
   "execution_count": 52,
   "metadata": {},
   "outputs": [
    {
     "name": "stdout",
     "output_type": "stream",
     "text": [
      "(150, 4)\n",
      "150\n"
     ]
    },
    {
     "data": {
      "image/png": "[encoded data removed]",
      "text/plain": [
       "<Figure size 432x288 with 1 Axes>"
      ]
     },
     "metadata": {
      "needs_background": "light"
     },
     "output_type": "display_data"
    }
   ],
   "source": [
    "from sklearn import datasets\n",
    "iris = datasets.load_iris()\n",
    "X, y = iris.data, iris.target\n",
    "print (np.shape(X))\n",
    "print (np.size(y))\n",
    "\n",
    "import matplotlib.pyplot as plt\n",
    "plt.title('Problema de 3 clases', fontsize=14)\n",
    "plt.xlabel(u'Característica 1')\n",
    "plt.ylabel(u'Característica 2')\n",
    "plt.scatter(X[:,0], X[:,3], c=y);\n",
    "plt.show()\n"
   ]
  },
  {
   "cell_type": "markdown",
   "metadata": {},
   "source": [
    "Leyendo una base de datos desde un archivo de texto plano!"
   ]
  },
  {
   "cell_type": "code",
   "execution_count": null,
   "metadata": {},
   "outputs": [],
   "source": [
    "#db = np.loadtxt('DB.txt',delimiter='\\t')  # Assuming tab-delimiter\n",
    "#X = db[:,0:12] # fila1 = db[4,0:12]\n",
    "#Y = db[:,12]\n",
    "#np.mean(Y)\n",
    "#np.std(Y)\n",
    "from StringIO import StringIO   # StringIO behaves like a file object\n",
    "#c = StringIO(\"0 1\\n2 3\")\n",
    "#print np.loadtxt(c)\n",
    "c = StringIO(\"1,0,2\\n3,0,4\")\n",
    "z = np.loadtxt(c, delimiter=',')\n",
    "print (z)\n",
    "print ('---')\n",
    "c = StringIO(\"1,0,2\\n3,0,4\")\n",
    "x, y = np.loadtxt(c, delimiter=',', usecols=(0, 2), unpack=True)\n",
    "print (x,y)"
   ]
  },
  {
   "cell_type": "markdown",
   "metadata": {},
   "source": [
    "## Estructuras de datos en Python"
   ]
  },
  {
   "cell_type": "code",
   "execution_count": 54,
   "metadata": {},
   "outputs": [
    {
     "name": "stdout",
     "output_type": "stream",
     "text": [
      "1\n",
      "2.5\n",
      "nuevo\n",
      "valor\n",
      "{'hola', 1, 3}\n"
     ]
    }
   ],
   "source": [
    "# Tuplas\n",
    "tup = (1, \"hola\", 3)\n",
    "print (tup[0])\n",
    "#tup[1] = 2    #Esto es un error\n",
    "\n",
    "# Listas\n",
    "\n",
    "lista = [2, 3, 2.5, \"Hola\"]\n",
    "print (lista[2])\n",
    "lista[2] = \"nuevo\"\n",
    "print (lista[2])\n",
    "# Diccionarios\n",
    "\n",
    "dic = {\"clave\": \"valor\", \"1\": 324, \"2\": \"Hola\"}\n",
    "print (dic[\"clave\"])\n",
    "\n",
    "#Conjuntos\n",
    "\n",
    "conjunto = {1, 3, \"hola\"}\n",
    "print(conjunto)"
   ]
  },
  {
   "cell_type": "markdown",
   "metadata": {},
   "source": [
    "## Condicionales, ciclos y funciones"
   ]
  },
  {
   "cell_type": "markdown",
   "metadata": {},
   "source": [
    "## IF, Else If, Else"
   ]
  },
  {
   "cell_type": "code",
   "execution_count": 55,
   "metadata": {},
   "outputs": [
    {
     "name": "stdout",
     "output_type": "stream",
     "text": [
      "go see Pink Floyd\n",
      "move on\n"
     ]
    }
   ],
   "source": [
    "age=18\n",
    "if age>18:\n",
    "    \n",
    "    print(\"you can enter\" )\n",
    "elif age==18:\n",
    "    print(\"go see Pink Floyd\")\n",
    "else:\n",
    "    print(\"go see Meat Loaf\" )\n",
    "    \n",
    "\n",
    "print(\"move on\")"
   ]
  },
  {
   "cell_type": "markdown",
   "metadata": {},
   "source": [
    "## Ciclo For"
   ]
  },
  {
   "cell_type": "code",
   "execution_count": 56,
   "metadata": {},
   "outputs": [
    {
     "name": "stdout",
     "output_type": "stream",
     "text": [
      "1982\n",
      "1980\n",
      "1973\n"
     ]
    }
   ],
   "source": [
    "range(5)\n",
    "\n",
    "dates = [1982,1980,1973]\n",
    "N=len(dates)\n",
    "\n",
    "for i in range(N):\n",
    "     \n",
    "    print(dates[i])   "
   ]
  },
  {
   "cell_type": "markdown",
   "metadata": {},
   "source": [
    "identacion"
   ]
  },
  {
   "cell_type": "code",
   "execution_count": 20,
   "metadata": {},
   "outputs": [
    {
     "name": "stdout",
     "output_type": "stream",
     "text": [
      "0\n",
      "1\n",
      "2\n",
      "3\n",
      "4\n",
      "5\n",
      "6\n",
      "7\n"
     ]
    }
   ],
   "source": [
    "for i in range(0,8):\n",
    "    print(i)"
   ]
  },
  {
   "cell_type": "markdown",
   "metadata": {},
   "source": [
    "### Ciclo While"
   ]
  },
  {
   "cell_type": "code",
   "execution_count": 58,
   "metadata": {},
   "outputs": [
    {
     "name": "stdout",
     "output_type": "stream",
     "text": [
      "1982\n",
      "1980\n",
      "1973\n",
      "it took  3 repetitions to get out of loop\n"
     ]
    }
   ],
   "source": [
    "dates = [1982,1980,1973,2000]\n",
    "\n",
    "i=0;\n",
    "year=0\n",
    "while(year!=1973):\n",
    "    year=dates[i]\n",
    "    i=i+1\n",
    "    print(year)\n",
    "    \n",
    "    \n",
    "print(\"it took \", i ,\"repetitions to get out of loop\")"
   ]
  },
  {
   "cell_type": "markdown",
   "metadata": {},
   "source": [
    "## Lectura y escritura de archivos"
   ]
  },
  {
   "cell_type": "code",
   "execution_count": 60,
   "metadata": {},
   "outputs": [
    {
     "name": "stdout",
     "output_type": "stream",
     "text": [
      "Inteligencia artificial\n",
      "\n",
      "IA\n",
      "\n",
      "TOPIO 2.0.jpg\n",
      "\n",
      "TOPIO, un robot Humanoide, en la Feria Internacional del Juguete de Núremberg de 2009.\n",
      "\n",
      "Campo de aplicación\tDesarrollo de agentes racionales no vivos\n",
      "\n",
      "Subárea de\tCiencias de la computación\n",
      "\n",
      "[editar datos en Wikidata]\n",
      "\n",
      "La inteligencia artificial (IA), también llamada inteligencia computacional, es la inteligencia exhibida por máquinas. En ciencias de la computación, una máquina «inteligente» ideal es un agente racional flexible que percibe su entorno y lleva a cabo acciones que maximicen sus posibilidades de éxito en algún objetivo o tarea.1​ Coloquialmente, el término inteligencia artificial se aplica cuando una máquina imita las funciones «cognitivas» que los humanos asocian con otras mentes humanas, como por ejemplo: \"aprender\" y \"resolver problemas\". 2​ A medida que las máquinas se vuelven cada vez más capaces, tecnología que alguna vez se pensó que requería de inteligencia se elimina de la definición. Por ejemplo, el reconocimiento óptico de caracteres ya no se percibe como un ejemplo de la \"inteligencia artificial\" habiéndose convertido en una tecnología común.3​ Avances tecnológicos todavía clasificados como inteligencia artificial son los sistemas de conducción autónomos o los capaces de jugar al ajedrez o al Go.\n",
      "\n",
      "\n",
      "\n",
      "Según Takeyas (2007) la IA es una rama de las ciencias computacionales encargada de estudiar modelos de cómputo capaces de realizar actividades propias de los seres humanos en base a dos de sus características primordiales: el razonamiento y la conducta.4​\n"
     ]
    }
   ],
   "source": [
    "example1=\"Example1.txt\"\n",
    "file1 = open(example1,\"r\")\n",
    "\n",
    "for line in file1:\n",
    "    print (line)\n",
    "file1.close()"
   ]
  },
  {
   "cell_type": "code",
   "execution_count": 61,
   "metadata": {},
   "outputs": [
    {
     "name": "stdout",
     "output_type": "stream",
     "text": [
      "Inteligencia artificial\n",
      "IA\n",
      "TOPIO 2.0.jpg\n",
      "TOPIO, un robot Humanoide, en la Feria Internacional del Juguete de Núremberg de 2009.\n",
      "Campo de aplicación\tDesarrollo de agentes racionales no vivos\n",
      "Subárea de\tCiencias de la computación\n",
      "[editar datos en Wikidata]\n",
      "La inteligencia artificial (IA), también llamada inteligencia computacional, es la inteligencia exhibida por máquinas. En ciencias de la computación, una máquina «inteligente» ideal es un agente racional flexible que percibe su entorno y lleva a cabo acciones que maximicen sus posibilidades de éxito en algún objetivo o tarea.1​ Coloquialmente, el término inteligencia artificial se aplica cuando una máquina imita las funciones «cognitivas» que los humanos asocian con otras mentes humanas, como por ejemplo: \"aprender\" y \"resolver problemas\". 2​ A medida que las máquinas se vuelven cada vez más capaces, tecnología que alguna vez se pensó que requería de inteligencia se elimina de la definición. Por ejemplo, el reconocimiento óptico de caracteres ya no se percibe como un ejemplo de la \"inteligencia artificial\" habiéndose convertido en una tecnología común.3​ Avances tecnológicos todavía clasificados como inteligencia artificial son los sistemas de conducción autónomos o los capaces de jugar al ajedrez o al Go.\n",
      "\n",
      "Según Takeyas (2007) la IA es una rama de las ciencias computacionales encargada de estudiar modelos de cómputo capaces de realizar actividades propias de los seres humanos en base a dos de sus características primordiales: el razonamiento y la conducta.4​\n"
     ]
    }
   ],
   "source": [
    "with open(example1,\"r\") as file1:\n",
    "    FileContent=file1.read()\n",
    "    print(FileContent)"
   ]
  },
  {
   "cell_type": "code",
   "execution_count": null,
   "metadata": {},
   "outputs": [],
   "source": [
    "## Ejercicio. Escritura y concatenación de un texto en un archivo .txt"
   ]
  },
  {
   "cell_type": "markdown",
   "metadata": {},
   "source": [
    "## Reto: estudiar la librería Pandas para manejo de Datos"
   ]
  },
  {
   "cell_type": "code",
   "execution_count": null,
   "metadata": {},
   "outputs": [],
   "source": [
    "#df = pd.read_csv"
   ]
  }
 ],
 "metadata": {
  "kernelspec": {
   "display_name": "Python 3",
   "language": "python",
   "name": "python3"
  },
  "language_info": {
   "codemirror_mode": {
    "name": "ipython",
    "version": 3
   },
   "file_extension": ".py",
   "mimetype": "text/x-python",
   "name": "python",
   "nbconvert_exporter": "python",
   "pygments_lexer": "ipython3",
   "version": "3.7.2"
  }
 },
 "nbformat": 4,
 "nbformat_minor": 2
}
